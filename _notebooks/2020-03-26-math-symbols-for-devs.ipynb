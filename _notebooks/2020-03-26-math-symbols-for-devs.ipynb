{
 "nbformat": 4,
 "nbformat_minor": 2,
 "metadata": {
  "language_info": {
   "name": "python",
   "codemirror_mode": {
    "name": "ipython",
    "version": 3
   },
   "version": "3.7.6-final"
  },
  "orig_nbformat": 2,
  "file_extension": ".py",
  "mimetype": "text/x-python",
  "name": "python",
  "npconvert_exporter": "python",
  "pygments_lexer": "ipython3",
  "version": 3,
  "kernelspec": {
   "name": "python3",
   "display_name": "Python 3"
  }
 },
 "cells": [
  {
   "cell_type": "markdown",
   "metadata": {},
   "source": [
    "# Common mathematical equations and a suitable Python implementation of the same\n",
    "> This notebook exercises the use of MathML markup, katex rendering, and examples of mathematical equations implemented in Python.\n",
    "\n",
    "- toc: true \n",
    "- badges: true\n",
    "- comments: false\n",
    "- categories: [Jupyter notebook]"
   ]
  },
  {
   "cell_type": "markdown",
   "metadata": {},
   "source": [
    ">Note: H/T [Math Symbols for Programmers by Amit Chaudhary](https://amitness.com/2019/08/math-for-programmers/) for the idea and code examples."
   ]
  },
  {
   "cell_type": "markdown",
   "metadata": {},
   "source": [
    "Introduce vector *_X_*. Then access the its value at index _i_.\n",
    "<br><br>\n",
    "<math xmlns=\"http://www.w3.org/1998/Math/MathML\"> <mstyle displaystyle=\"true\"> <msub> <mrow> <mi> X </mi> </mrow> <mrow> <mi> i </mi> </mrow> </msub> </mstyle> </math>"
   ]
  },
  {
   "cell_type": "code",
   "execution_count": 4,
   "metadata": {},
   "outputs": [
    {
     "output_type": "stream",
     "name": "stdout",
     "text": "10\n"
    }
   ],
   "source": [
    "\n",
    "X = [10, 20, 30] # refx: https://stackoverflow.com/a/36042565\n",
    "i = 0\n",
    "print(f\"{X[i]}\") # first item of list\n"
   ]
  },
  {
   "cell_type": "markdown",
   "metadata": {},
   "source": [
    "Extend the prior example as a now 2-D vector *_X_*.\n",
    "<br><br>\n",
    "<math xmlns=\"http://www.w3.org/1998/Math/MathML\"> <mstyle displaystyle=\"true\"> <msub> <mrow> <mi> X </mi> </mrow> <mrow> <mi> i </mi> <mi> j </mi> </mrow> </msub> </mstyle> </math>"
   ]
  },
  {
   "cell_type": "code",
   "execution_count": 6,
   "metadata": {},
   "outputs": [
    {
     "output_type": "stream",
     "name": "stdout",
     "text": "10\n"
    }
   ],
   "source": [
    "\n",
    "X = [[1, 3, 5], [10, 8, 6]]\n",
    "i = 1\n",
    "j = 0\n",
    "print(f\"{X[i][j]}\") # first item of second list\n"
   ]
  },
  {
   "cell_type": "markdown",
   "metadata": {},
   "source": [
    "__Sigma__ (summation) is for the sum of all elements in a vector for a given range, lower and upper limits inclusive.\n",
    "<br><br>\n",
    "<math xmlns=\"http://www.w3.org/1998/Math/MathML\"> <mstyle displaystyle=\"true\"> <munderover> <mrow> <mo> &#x2211;<!--n-ary summation--> </mo> </mrow> <mrow> <mi> i </mi> <mo> = </mo> <mn> 1 </mn> </mrow> <mrow> <mi> N </mi> </mrow> </munderover> <mi> X </mi> <mo> i </mo> </mstyle> </math>\n",
    "<br><br>\n",
    "In Python, we will loop over the vector from the first item (index: 0) to the last item (index: count _n_ of items less 1). The value of each item is then aggregated to the result total."
   ]
  },
  {
   "cell_type": "code",
   "execution_count": 8,
   "metadata": {},
   "outputs": [
    {
     "output_type": "stream",
     "name": "stdout",
     "text": "Summation of x: 25\n"
    }
   ],
   "source": [
    "\n",
    "x = [1, 3, 5, 7, 9]\n",
    "result = 0\n",
    "N = len(x)\n",
    "for i in range(N):\n",
    "    result += x[i]\n",
    "print(f\"Summation of x: {result}\")\n",
    "## or do:\n",
    "# result = sum(x)\n"
   ]
  },
  {
   "cell_type": "markdown",
   "metadata": {},
   "source": [
    "Use __Sigma__ again, this time calculating the average value of all the elements in a vector for a given range.\n",
    "<br><br>\n",
    "<math xmlns=\"http://www.w3.org/1998/Math/MathML\"> <mstyle displaystyle=\"true\"> <mfrac> <mrow> <mn> 1 </mn> </mrow> <mrow> <mi> N </mi> </mrow> </mfrac> <munderover> <mrow> <mo> &#x2211;<!--n-ary summation--> </mo> </mrow> <mrow> <mi> i </mi> <mo> = </mo> <mn> 1 </mn> </mrow> <mrow> <mi> N </mi> </mrow> </munderover> <msub> <mrow> <mi> x </mi> </mrow> <mrow> <mi> i </mi> </mrow> </msub> </mstyle> </math>"
   ]
  },
  {
   "cell_type": "code",
   "execution_count": 16,
   "metadata": {},
   "outputs": [
    {
     "output_type": "stream",
     "name": "stdout",
     "text": "Summation of x: 210\nAverage of x: 42.0\n"
    }
   ],
   "source": [
    "\n",
    "x = [1, 17, 31, 62, 99]\n",
    "result = 0\n",
    "N = len(x)\n",
    "for i in range(N):\n",
    "    result += x[i]\n",
    "average = result / N\n",
    "print(f\"Summation of x: {result}\")\n",
    "print(f\"Average of x: {average}\")\n"
   ]
  },
  {
   "cell_type": "markdown",
   "metadata": {},
   "source": [
    "__Pi__ is for the product of all elements in a vector for a given range.\n",
    "<br><br>\n",
    "<math xmlns=\"http://www.w3.org/1998/Math/MathML\"> <mstyle displaystyle=\"true\"> <munderover> <mrow> <mo> &#x220F;<!--n-ary product--> </mo> </mrow> <mrow> <mi> i </mi> <mo> = </mo> <mn> 1 </mn> </mrow> <mrow> <mi> N </mi> </mrow> </munderover> <msub> <mrow> <mi> x </mi> </mrow> <mrow> <mi> i </mi> </mrow> </msub> </mstyle> </math>\n",
    "<br><br>\n",
    "In Python, loop over the vector from the first item to the last item and multiply the values.\n",
    "<br><br>\n",
    "_n.b. Never seen in the context of the 2019/20 Data Science Immersive_"
   ]
  },
  {
   "cell_type": "code",
   "execution_count": 27,
   "metadata": {},
   "outputs": [
    {
     "output_type": "stream",
     "name": "stdout",
     "text": "Product of x: 945\n"
    }
   ],
   "source": [
    "\n",
    "x = [1, 3, 5, 7, 9]\n",
    "result = 1 # The action is multiplicative, so do not multiply the first item by zero!\n",
    "N = len(x)\n",
    "for i in range(N):\n",
    "    result *= x[i]\n",
    "print(f\"Product of x: {result}\")\n"
   ]
  },
  {
   "cell_type": "markdown",
   "metadata": {},
   "source": [
    "__Pipe__ means different things depending on how its applied. To fence a number with a single pipe means to returns the absolute value of that number.\n",
    "<br><br>\n",
    "<math xmlns=\"http://www.w3.org/1998/Math/MathML\"> <mstyle displaystyle=\"true\"> <mfenced open=\"|\" close=\"|\"> <mrow> <mi> x </mi> </mrow> </mfenced> </mstyle> </math>\n",
    "<br><br>\n",
    "Whereas, to fence a number with a double pipe is to calculate \"the norm\", sometimes called the magnitude, of the vector. \n",
    "<br><br>\n",
    "<math xmlns=\"http://www.w3.org/1998/Math/MathML\"> <mstyle displaystyle=\"true\"> <mfenced open=\"∥\" close=\"∥\"> <mrow> <mi> x </mi> </mrow> </mfenced> </mstyle> </math>\n",
    "<br><br>\n",
    "In Python, this means taking each element in a list, summing them, and taking the square root."
   ]
  },
  {
   "cell_type": "code",
   "execution_count": 47,
   "metadata": {},
   "outputs": [
    {
     "output_type": "stream",
     "name": "stdout",
     "text": "Absolute value of x: 10\nNorm of y: 12.84523257866513\n"
    }
   ],
   "source": [
    "\n",
    "import math # for step 2, below\n",
    "x = -10\n",
    "print(f\"Absolute value of x: {abs(x)}\")\n",
    "\n",
    "y = [1, 3, 5, 7, 9]\n",
    "result = 0\n",
    "N = len(y)\n",
    "for i in range(N):\n",
    "    result += y[i] **2\n",
    "print(f\"Norm of y: {math.sqrt(result)}\")\n"
   ]
  },
  {
   "cell_type": "markdown",
   "metadata": {},
   "source": [
    "__Epsilon__ finds whether an element is part of a set.\n",
    "<br><br>\n",
    "<math xmlns=\"http://www.w3.org/1998/Math/MathML\"> <mstyle displaystyle=\"true\"> <mn> 3 </mn> <mo> &#x2208;<!--element of--> </mo> <mi> X </mi> </mstyle> </math>\n",
    "<br><br>\n",
    "In Python, this is done by the `in` comparison operator."
   ]
  },
  {
   "cell_type": "code",
   "execution_count": 51,
   "metadata": {},
   "outputs": [
    {
     "output_type": "execute_result",
     "data": {
      "text/plain": "True"
     },
     "metadata": {},
     "execution_count": 51
    }
   ],
   "source": [
    "\n",
    "x = {1, 3, 5}\n",
    "3 in x\n"
   ]
  },
  {
   "cell_type": "markdown",
   "metadata": {},
   "source": [
    "__Function__ *_f_* where elements of _X_ are mapped to range _Y_.\n",
    "<br><br>\n",
    "<math xmlns=\"http://www.w3.org/1998/Math/MathML\"> <mstyle displaystyle=\"true\"> <mi> f </mi> <mo> : </mo> <mi> X </mi> <mo> &#x2192;<!--rightwards arrow--> </mo> <mi> Y </mi> </mstyle> </math>\n",
    "<br><br>\n",
    "In Python, this is the general form of a function."
   ]
  },
  {
   "cell_type": "code",
   "execution_count": 64,
   "metadata": {},
   "outputs": [
    {
     "output_type": "stream",
     "name": "stdout",
     "text": "The length of the words in X: 10\n"
    }
   ],
   "source": [
    "\n",
    "X = ['bird', 'cat', 'dog']\n",
    "\n",
    "def f(inputs):\n",
    "    inputs_len = 0\n",
    "    N = len(inputs)\n",
    "    for i in range(N):\n",
    "        inputs_len += len(inputs[i])\n",
    "    return inputs_len\n",
    "\n",
    "Y = f(X)\n",
    "print(f\"The length of the inputs in X: {Y}\")\n"
   ]
  },
  {
   "cell_type": "markdown",
   "metadata": {},
   "source": [
    "__Function__ may come again using symbol `R` in place of _X_ and _Y_. `R` means that the input and output are real numbers and can have any value - int, float, rational, irrational.\n",
    "<br><br>\n",
    "<math xmlns=\"http://www.w3.org/1998/Math/MathML\"> <mstyle displaystyle=\"true\"> <mi> f </mi> <mo> : </mo><mtext> &#x211D;<!--double-struck capital R--> </mtext> <mo> &#x2192;<!--rightwards arrow--> </mo> <mtext> &#x211D;<!--double-struck capital R--> </mtext> </mstyle> </math>\n",
    "<br><br>\n",
    "In Python, this is equivalent to any value except [complex numbers](https://en.wikipedia.org/wiki/Complex_number)."
   ]
  },
  {
   "cell_type": "code",
   "execution_count": 67,
   "metadata": {},
   "outputs": [
    {
     "output_type": "stream",
     "name": "stdout",
     "text": "42, 3.141592653589793\n"
    }
   ],
   "source": [
    "\n",
    "import math\n",
    "x = 42\n",
    "y = math.pi\n",
    "print(f\"{x}, {y}\")\n"
   ]
  },
  {
   "cell_type": "markdown",
   "metadata": {},
   "source": [
    "And once more, _R_<sup>d</sup> means a _d_-dimensional vector of real numbers.\n",
    "<br><br>\n",
    "<math xmlns=\"http://www.w3.org/1998/Math/MathML\"> <mstyle displaystyle=\"true\"> <mi> f </mi> <mo> : </mo> <mrow> <mtext> &#x211D;<!--double-struck capital R--> </mtext>  </mrow> <mrow> <msup> <mn> d </mn> </msup> </mrow> <mo> &#x2192;<!--rightwards arrow--> </mo> <mtext> &#x211D;<!--double-struck capital R--> </mtext>  </mstyle> </math>\n",
    "<br><br>\n",
    "In Python, an example function may take a 2-D input and return the sum product."
   ]
  },
  {
   "cell_type": "code",
   "execution_count": 81,
   "metadata": {},
   "outputs": [
    {
     "output_type": "stream",
     "name": "stdout",
     "text": "4\n"
    }
   ],
   "source": [
    "\n",
    "import numpy as np\n",
    "X = [1, 3]\n",
    "f = np.sum # This was an interesting example to me, it returns a function for one input\n",
    "Y = f(X)\n",
    "print(f\"{Y}\")\n"
   ]
  },
  {
   "cell_type": "markdown",
   "metadata": {},
   "source": [
    "__Transpose__ will exchange the rows and columns.\n",
    "<br><br>\n",
    "<math xmlns=\"http://www.w3.org/1998/Math/MathML\"> <mstyle displaystyle=\"true\"> <msup> <mrow> <mi> X </mi> </mrow> <mrow> <mi> T </mi> </mrow> </msup> </mstyle> </math>"
   ]
  },
  {
   "cell_type": "code",
   "execution_count": 83,
   "metadata": {},
   "outputs": [
    {
     "output_type": "execute_result",
     "data": {
      "text/plain": "array([[1, 2],\n       [3, 4],\n       [5, 6]])"
     },
     "metadata": {},
     "execution_count": 83
    }
   ],
   "source": [
    "\n",
    "import numpy as np\n",
    "X = [[1, 3, 5],\n",
    "     [2, 4, 6]]\n",
    "np.transpose(X)\n"
   ]
  },
  {
   "cell_type": "markdown",
   "metadata": {},
   "source": [
    "__Element-wise__ multiplication.\n",
    "<br><br>\n",
    "<math xmlns=\"http://www.w3.org/1998/Math/MathML\"> <mstyle displaystyle=\"true\"> <mi> Z </mi> <mo> = </mo> <mi> X </mi> <mo> &#x2299;<!--circled dot operator--> </mo> <mi> Y </mi> </mstyle> </math>\n",
    "<br><br>\n",
    "In Python, you would multiply the corresponding elements of two lists.\n",
    "_n.b. Never seen in the context of the 2019/20 Data Science Immersive_"
   ]
  },
  {
   "cell_type": "code",
   "execution_count": 90,
   "metadata": {},
   "outputs": [
    {
     "output_type": "stream",
     "name": "stdout",
     "text": "Element-wise product of these two arrays: [[ 2 12]\n [30 56]]\n"
    }
   ],
   "source": [
    "\n",
    "import numpy as np\n",
    "X = [[1, 3], [5, 7]]\n",
    "Y = [[2, 4], [6, 8]]\n",
    "Z = np.multiply(X, Y)\n",
    "print(f\"Element-wise product of these two arrays: {Z}\")\n"
   ]
  },
  {
   "cell_type": "markdown",
   "metadata": {},
   "source": [
    "__Dot Product__ gives the sum product of the elements in two sequences of numbers.\n",
    "<br><br>\n",
    "<math xmlns=\"http://www.w3.org/1998/Math/MathML\"> <mstyle displaystyle=\"true\"> <mtable columnalign=\"left\"> <mtr> <mtd> <mi> X </mi> <mi> Y </mi> </mtd> </mtr> <mtr> <mtd> <mi> X </mi> <mi> &#xb7; </mi>  <mi> Y </mi> </mtd> </mtr> </mtable> </mstyle> </math>"
   ]
  },
  {
   "cell_type": "code",
   "execution_count": 94,
   "metadata": {},
   "outputs": [
    {
     "output_type": "stream",
     "name": "stdout",
     "text": "Dot product of these two arrays: 44\n"
    }
   ],
   "source": [
    "\n",
    "X = [1, 3, 5]\n",
    "Y = [2, 4, 6]\n",
    "dot_prd = sum([i*j for i,j in zip(X, Y)])\n",
    "print(f\"Dot product of these two arrays: {dot_prd}\")\n"
   ]
  },
  {
   "cell_type": "markdown",
   "metadata": {},
   "source": [
    "Hat is for the unit vector. This means dividing each element in a vector by its length (norm).\n",
    "<br><br>\n",
    "<math xmlns=\"http://www.w3.org/1998/Math/MathML\"> <mstyle displaystyle=\"true\"> <mi> x </mi> </mstyle> </math>"
   ]
  },
  {
   "cell_type": "code",
   "execution_count": 2,
   "metadata": {},
   "outputs": [
    {
     "output_type": "stream",
     "name": "stdout",
     "text": "x `hat`: [0.1690308509457033, 0.50709255283711, 0.8451542547285166]\n"
    }
   ],
   "source": [
    "import math\n",
    "x = [1, 3, 5]\n",
    "length = math.sqrt(sum([e**2 for e in x]))\n",
    "x_hat = [e/length for e in x]\n",
    "print(f\"x `hat`: {x_hat}\")"
   ]
  },
  {
   "cell_type": "code",
   "execution_count": 3,
   "metadata": {},
   "outputs": [
    {
     "output_type": "execute_result",
     "data": {
      "text/plain": "1.0"
     },
     "metadata": {},
     "execution_count": 3
    }
   ],
   "source": [
    "# Make magnitude of the vector 1 and keep the direction\n",
    "import math\n",
    "math.sqrt(sum([e**2 for e in x_hat]))"
   ]
  },
  {
   "cell_type": "markdown",
   "metadata": {},
   "source": [
    "__Exclamation__ is for the factorial of a number.\n",
    "<br><br>\n",
    "<math xmlns=\"http://www.w3.org/1998/Math/MathML\"> <mstyle displaystyle=\"true\"> <mi> x </mi> <mo> ! </mo> </mstyle> </math>\n",
    "<br><br>\n",
    "In Python, you calculate the sum product from the scalar from its range (or just use a built-in function)."
   ]
  },
  {
   "cell_type": "code",
   "execution_count": 95,
   "metadata": {},
   "outputs": [
    {
     "output_type": "stream",
     "name": "stdout",
     "text": "Factorial of 5: 120\n"
    }
   ],
   "source": [
    "\n",
    "X = 5\n",
    "factor = 1\n",
    "for i in range(X, 0 , -1):\n",
    "    factor = factor * i\n",
    "print(f\"Factorial of {X}: {factor}\")\n",
    "## Or do:\n",
    "# import math\n",
    "# math.factorial(X)\n"
   ]
  },
  {
   "cell_type": "markdown",
   "metadata": {},
   "source": [
    "---"
   ]
  },
  {
   "cell_type": "markdown",
   "metadata": {},
   "source": [
    ">Note: From here down are symbols encountered in the 2019/20 Data Science Immersive that need more time for example."
   ]
  },
  {
   "cell_type": "markdown",
   "metadata": {},
   "source": [
    "__Mu__ mean of the population.\n",
    "<math xmlns=\"http://www.w3.org/1998/Math/MathML\"> <mstyle displaystyle=\"true\"> <mi> &#x00B5;<!--micro sign--> </mi> </mstyle> </math>"
   ]
  },
  {
   "cell_type": "markdown",
   "metadata": {},
   "source": [
    "__Sigma__ standard deviation of the population\n",
    "<math xmlns=\"http://www.w3.org/1998/Math/MathML\"> <mstyle displaystyle=\"true\"> <mi> &#x03C3;<!--greek small letter sigma--> </mi> </mstyle> </math>"
   ]
  },
  {
   "cell_type": "markdown",
   "metadata": {},
   "source": [
    "__Alpha__ Type 1 error rate\n",
    "<math xmlns=\"http://www.w3.org/1998/Math/MathML\"> <mstyle displaystyle=\"true\"> <mi> &#x03C3;<!--greek small letter sigma--> </mi> </mstyle> </math>"
   ]
  },
  {
   "cell_type": "markdown",
   "metadata": {},
   "source": [
    "__Beta__ regression coefficients (population)\n",
    "<math xmlns=\"http://www.w3.org/1998/Math/MathML\"> <mstyle displaystyle=\"true\"> <mi> &#x03B2;<!--greek small letter beta--> </mi> </mstyle> </math>"
   ]
  },
  {
   "cell_type": "markdown",
   "metadata": {},
   "source": [
    "__Theta__ a general population parameter\n",
    "<math xmlns=\"http://www.w3.org/1998/Math/MathML\"> <mstyle displaystyle=\"true\"> <mi> &#x0398;<!--greek capital letter theta--> </mi> </mstyle> </math>"
   ]
  },
  {
   "cell_type": "code",
   "execution_count": null,
   "metadata": {},
   "outputs": [],
   "source": []
  }
 ]
}